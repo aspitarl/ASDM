{
 "cells": [
  {
   "cell_type": "code",
   "execution_count": 13,
   "metadata": {},
   "outputs": [
    {
     "data": {
      "text/plain": [
       "20001"
      ]
     },
     "execution_count": 13,
     "metadata": {},
     "output_type": "execute_result"
    }
   ],
   "source": [
    "from Discarded.Engine import Structure\n",
    "\n",
    "class GoalGap(Structure):\n",
    "    def __init__(self):\n",
    "        super(GoalGap, self).__init__()\n",
    "        self.add_stock(\"Stock\", 100)\n",
    "        self.add_aux(\"Goal\", 20)\n",
    "        self.add_aux(\"Adjustment_time\", 5)\n",
    "        self.add_aux(\"Gap\", \"Goal-Stock\")\n",
    "        self.add_flow(\"Flow\", \"Gap/Adjustment_time\", flow_to=\"Stock\")\n",
    "    \n",
    "model = GoalGap()\n",
    "model.clear_last_run()\n",
    "model.simulate(simulation_time=5000, dt=0.25)\n",
    "df_outcome = model.export_simulation_result()\n",
    "len(df_outcome)"
   ]
  },
  {
   "cell_type": "code",
   "execution_count": 14,
   "metadata": {},
   "outputs": [
    {
     "data": {
      "text/plain": [
       "20001"
      ]
     },
     "execution_count": 14,
     "metadata": {},
     "output_type": "execute_result"
    }
   ],
   "source": [
    "from ASDM.ASDM import Structure\n",
    "\n",
    "class GoalGap(Structure):\n",
    "    def __init__(self):\n",
    "        super(GoalGap, self).__init__()\n",
    "        self.add_stock(\"Stock\", '100', in_flows=['Flow'])\n",
    "        self.add_flow(\"Flow\", \"Gap/Adjustment_time\")\n",
    "        self.add_aux(\"Goal\", '20')\n",
    "        self.add_aux(\"Gap\", \"Goal-Stock\")\n",
    "        self.add_aux(\"Adjustment_time\", '5')\n",
    "\n",
    "model = GoalGap()\n",
    "model.simulate(time=5000, dt=0.25)\n",
    "df_outcome = model.export_simulation_result(format='df')\n",
    "len(df_outcome)"
   ]
  }
 ],
 "metadata": {
  "kernelspec": {
   "display_name": "Python 3.8.13 ('asdm38')",
   "language": "python",
   "name": "python3"
  },
  "language_info": {
   "codemirror_mode": {
    "name": "ipython",
    "version": 3
   },
   "file_extension": ".py",
   "mimetype": "text/x-python",
   "name": "python",
   "nbconvert_exporter": "python",
   "pygments_lexer": "ipython3",
   "version": "3.11.0"
  },
  "orig_nbformat": 4,
  "vscode": {
   "interpreter": {
    "hash": "53c92d557bc5c688cfbc8ffaac7a6ebbbee1de4ba658e284fc67a5bc85857945"
   }
  }
 },
 "nbformat": 4,
 "nbformat_minor": 2
}
