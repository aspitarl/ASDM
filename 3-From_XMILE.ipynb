{
 "cells": [
  {
   "cell_type": "code",
   "execution_count": 23,
   "metadata": {},
   "outputs": [],
   "source": [
    "from ASDM.Engine import Structure"
   ]
  },
  {
   "cell_type": "code",
   "execution_count": 24,
   "metadata": {},
   "outputs": [
    {
     "name": "stdout",
     "output_type": "stream",
     "text": [
      "Engine: adding element: Stock equation: 100\n",
      "Engine: adding element: Goal equation: 20\n",
      "Engine: adding element: Gap equation: Goal-Stock\n",
      "Engine: adding element: AT equation: 5\n",
      "outflow:stock {}\n",
      "inflow:stock {'Flow': 'Stock'}\n",
      "None Stock\n",
      "Engine: adding element: Flow equation: Gap/AT\n"
     ]
    }
   ],
   "source": [
    "model = Structure(from_xmile='BuiltInTestModels/Goal_gap.stmx')"
   ]
  },
  {
   "cell_type": "code",
   "execution_count": 25,
   "metadata": {},
   "outputs": [
    {
     "data": {
      "text/html": [
       "<div>\n",
       "<style scoped>\n",
       "    .dataframe tbody tr th:only-of-type {\n",
       "        vertical-align: middle;\n",
       "    }\n",
       "\n",
       "    .dataframe tbody tr th {\n",
       "        vertical-align: top;\n",
       "    }\n",
       "\n",
       "    .dataframe thead th {\n",
       "        text-align: right;\n",
       "    }\n",
       "</style>\n",
       "<table border=\"1\" class=\"dataframe\">\n",
       "  <thead>\n",
       "    <tr style=\"text-align: right;\">\n",
       "      <th></th>\n",
       "      <th>Stock</th>\n",
       "      <th>Goal</th>\n",
       "      <th>Gap</th>\n",
       "      <th>AT</th>\n",
       "      <th>Flow</th>\n",
       "    </tr>\n",
       "  </thead>\n",
       "  <tbody>\n",
       "    <tr>\n",
       "      <th>0</th>\n",
       "      <td>100.000000</td>\n",
       "      <td>20</td>\n",
       "      <td>-80.000000</td>\n",
       "      <td>5</td>\n",
       "      <td>-16.000000</td>\n",
       "    </tr>\n",
       "    <tr>\n",
       "      <th>1</th>\n",
       "      <td>96.000000</td>\n",
       "      <td>20</td>\n",
       "      <td>-76.000000</td>\n",
       "      <td>5</td>\n",
       "      <td>-15.200000</td>\n",
       "    </tr>\n",
       "    <tr>\n",
       "      <th>2</th>\n",
       "      <td>92.200000</td>\n",
       "      <td>20</td>\n",
       "      <td>-72.200000</td>\n",
       "      <td>5</td>\n",
       "      <td>-14.440000</td>\n",
       "    </tr>\n",
       "    <tr>\n",
       "      <th>3</th>\n",
       "      <td>88.590000</td>\n",
       "      <td>20</td>\n",
       "      <td>-68.590000</td>\n",
       "      <td>5</td>\n",
       "      <td>-13.718000</td>\n",
       "    </tr>\n",
       "    <tr>\n",
       "      <th>4</th>\n",
       "      <td>85.160500</td>\n",
       "      <td>20</td>\n",
       "      <td>-65.160500</td>\n",
       "      <td>5</td>\n",
       "      <td>-13.032100</td>\n",
       "    </tr>\n",
       "    <tr>\n",
       "      <th>...</th>\n",
       "      <td>...</td>\n",
       "      <td>...</td>\n",
       "      <td>...</td>\n",
       "      <td>...</td>\n",
       "      <td>...</td>\n",
       "    </tr>\n",
       "    <tr>\n",
       "      <th>76</th>\n",
       "      <td>21.622124</td>\n",
       "      <td>20</td>\n",
       "      <td>-1.622124</td>\n",
       "      <td>5</td>\n",
       "      <td>-0.324425</td>\n",
       "    </tr>\n",
       "    <tr>\n",
       "      <th>77</th>\n",
       "      <td>21.541018</td>\n",
       "      <td>20</td>\n",
       "      <td>-1.541018</td>\n",
       "      <td>5</td>\n",
       "      <td>-0.308204</td>\n",
       "    </tr>\n",
       "    <tr>\n",
       "      <th>78</th>\n",
       "      <td>21.463967</td>\n",
       "      <td>20</td>\n",
       "      <td>-1.463967</td>\n",
       "      <td>5</td>\n",
       "      <td>-0.292793</td>\n",
       "    </tr>\n",
       "    <tr>\n",
       "      <th>79</th>\n",
       "      <td>21.390768</td>\n",
       "      <td>20</td>\n",
       "      <td>-1.390768</td>\n",
       "      <td>5</td>\n",
       "      <td>-0.278154</td>\n",
       "    </tr>\n",
       "    <tr>\n",
       "      <th>80</th>\n",
       "      <td>21.321230</td>\n",
       "      <td>20</td>\n",
       "      <td>-1.321230</td>\n",
       "      <td>5</td>\n",
       "      <td>-0.264246</td>\n",
       "    </tr>\n",
       "  </tbody>\n",
       "</table>\n",
       "<p>81 rows × 5 columns</p>\n",
       "</div>"
      ],
      "text/plain": [
       "         Stock  Goal        Gap  AT       Flow\n",
       "0   100.000000    20 -80.000000   5 -16.000000\n",
       "1    96.000000    20 -76.000000   5 -15.200000\n",
       "2    92.200000    20 -72.200000   5 -14.440000\n",
       "3    88.590000    20 -68.590000   5 -13.718000\n",
       "4    85.160500    20 -65.160500   5 -13.032100\n",
       "..         ...   ...        ...  ..        ...\n",
       "76   21.622124    20  -1.622124   5  -0.324425\n",
       "77   21.541018    20  -1.541018   5  -0.308204\n",
       "78   21.463967    20  -1.463967   5  -0.292793\n",
       "79   21.390768    20  -1.390768   5  -0.278154\n",
       "80   21.321230    20  -1.321230   5  -0.264246\n",
       "\n",
       "[81 rows x 5 columns]"
      ]
     },
     "execution_count": 25,
     "metadata": {},
     "output_type": "execute_result"
    }
   ],
   "source": [
    "model.clear_last_run()\n",
    "model.simulate(simulation_time=20, dt=0.25)\n",
    "df_outcome = model.export_simulation_result()\n",
    "df_outcome"
   ]
  },
  {
   "cell_type": "code",
   "execution_count": 26,
   "metadata": {},
   "outputs": [
    {
     "data": {
      "text/plain": [
       "<AxesSubplot:>"
      ]
     },
     "execution_count": 26,
     "metadata": {},
     "output_type": "execute_result"
    },
    {
     "data": {
      "image/png": "[encoded data removed]",
      "text/plain": [
       "<Figure size 432x288 with 1 Axes>"
      ]
     },
     "metadata": {
      "needs_background": "light"
     },
     "output_type": "display_data"
    }
   ],
   "source": [
    "df_outcome[['Goal', 'Stock']].plot()"
   ]
  }
 ],
 "metadata": {
  "kernelspec": {
   "display_name": "Python 3.8.13 ('asdm38')",
   "language": "python",
   "name": "python3"
  },
  "language_info": {
   "codemirror_mode": {
    "name": "ipython",
    "version": 3
   },
   "file_extension": ".py",
   "mimetype": "text/x-python",
   "name": "python",
   "nbconvert_exporter": "python",
   "pygments_lexer": "ipython3",
   "version": "3.8.13"
  },
  "orig_nbformat": 4,
  "vscode": {
   "interpreter": {
    "hash": "53c92d557bc5c688cfbc8ffaac7a6ebbbee1de4ba658e284fc67a5bc85857945"
   }
  }
 },
 "nbformat": 4,
 "nbformat_minor": 2
}
